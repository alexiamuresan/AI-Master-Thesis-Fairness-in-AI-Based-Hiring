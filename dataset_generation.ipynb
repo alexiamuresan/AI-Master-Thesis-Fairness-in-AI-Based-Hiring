{
  "nbformat": 4,
  "nbformat_minor": 0,
  "metadata": {
    "colab": {
      "provenance": []
    },
    "kernelspec": {
      "name": "python3",
      "display_name": "Python 3"
    },
    "language_info": {
      "name": "python"
    }
  },
  "cells": [
    {
      "cell_type": "code",
      "execution_count": 1,
      "metadata": {
        "colab": {
          "base_uri": "https://localhost:8080/"
        },
        "id": "9T0SMs1uj308",
        "outputId": "ac08c47d-af92-404e-85b8-16e78b2e621e"
      },
      "outputs": [
        {
          "output_type": "stream",
          "name": "stdout",
          "text": [
            "Collecting openai\n",
            "  Downloading openai-1.35.7-py3-none-any.whl (327 kB)\n",
            "\u001b[2K     \u001b[90m━━━━━━━━━━━━━━━━━━━━━━━━━━━━━━━━━━━━━━━━\u001b[0m \u001b[32m327.5/327.5 kB\u001b[0m \u001b[31m4.4 MB/s\u001b[0m eta \u001b[36m0:00:00\u001b[0m\n",
            "\u001b[?25hRequirement already satisfied: anyio<5,>=3.5.0 in /usr/local/lib/python3.10/dist-packages (from openai) (3.7.1)\n",
            "Requirement already satisfied: distro<2,>=1.7.0 in /usr/lib/python3/dist-packages (from openai) (1.7.0)\n",
            "Collecting httpx<1,>=0.23.0 (from openai)\n",
            "  Downloading httpx-0.27.0-py3-none-any.whl (75 kB)\n",
            "\u001b[2K     \u001b[90m━━━━━━━━━━━━━━━━━━━━━━━━━━━━━━━━━━━━━━━━\u001b[0m \u001b[32m75.6/75.6 kB\u001b[0m \u001b[31m4.0 MB/s\u001b[0m eta \u001b[36m0:00:00\u001b[0m\n",
            "\u001b[?25hRequirement already satisfied: pydantic<3,>=1.9.0 in /usr/local/lib/python3.10/dist-packages (from openai) (2.7.4)\n",
            "Requirement already satisfied: sniffio in /usr/local/lib/python3.10/dist-packages (from openai) (1.3.1)\n",
            "Requirement already satisfied: tqdm>4 in /usr/local/lib/python3.10/dist-packages (from openai) (4.66.4)\n",
            "Requirement already satisfied: typing-extensions<5,>=4.7 in /usr/local/lib/python3.10/dist-packages (from openai) (4.12.2)\n",
            "Requirement already satisfied: idna>=2.8 in /usr/local/lib/python3.10/dist-packages (from anyio<5,>=3.5.0->openai) (3.7)\n",
            "Requirement already satisfied: exceptiongroup in /usr/local/lib/python3.10/dist-packages (from anyio<5,>=3.5.0->openai) (1.2.1)\n",
            "Requirement already satisfied: certifi in /usr/local/lib/python3.10/dist-packages (from httpx<1,>=0.23.0->openai) (2024.6.2)\n",
            "Collecting httpcore==1.* (from httpx<1,>=0.23.0->openai)\n",
            "  Downloading httpcore-1.0.5-py3-none-any.whl (77 kB)\n",
            "\u001b[2K     \u001b[90m━━━━━━━━━━━━━━━━━━━━━━━━━━━━━━━━━━━━━━━━\u001b[0m \u001b[32m77.9/77.9 kB\u001b[0m \u001b[31m3.5 MB/s\u001b[0m eta \u001b[36m0:00:00\u001b[0m\n",
            "\u001b[?25hCollecting h11<0.15,>=0.13 (from httpcore==1.*->httpx<1,>=0.23.0->openai)\n",
            "  Downloading h11-0.14.0-py3-none-any.whl (58 kB)\n",
            "\u001b[2K     \u001b[90m━━━━━━━━━━━━━━━━━━━━━━━━━━━━━━━━━━━━━━━━\u001b[0m \u001b[32m58.3/58.3 kB\u001b[0m \u001b[31m4.2 MB/s\u001b[0m eta \u001b[36m0:00:00\u001b[0m\n",
            "\u001b[?25hRequirement already satisfied: annotated-types>=0.4.0 in /usr/local/lib/python3.10/dist-packages (from pydantic<3,>=1.9.0->openai) (0.7.0)\n",
            "Requirement already satisfied: pydantic-core==2.18.4 in /usr/local/lib/python3.10/dist-packages (from pydantic<3,>=1.9.0->openai) (2.18.4)\n",
            "Installing collected packages: h11, httpcore, httpx, openai\n",
            "Successfully installed h11-0.14.0 httpcore-1.0.5 httpx-0.27.0 openai-1.35.7\n"
          ]
        }
      ],
      "source": [
        "pip install openai\n"
      ]
    },
    {
      "cell_type": "code",
      "source": [
        "from openai import OpenAI"
      ],
      "metadata": {
        "id": "96AnLXhUkDyo"
      },
      "execution_count": 2,
      "outputs": []
    },
    {
      "cell_type": "code",
      "source": [
        "client = OpenAI(\n",
        "    api_key = \" \" # insert API key here\n",
        ")"
      ],
      "metadata": {
        "id": "iqBCB7bAj7WY"
      },
      "execution_count": 3,
      "outputs": []
    },
    {
      "cell_type": "code",
      "source": [
        "completion = client.chat.completions.create(\n",
        "    model = \"gpt-3.5-turbo\",\n",
        "    messages = [\n",
        "        {\"role\": \"system\", \"content\": \"Assistant\"},\n",
        "        #{\"role\": \"user\", \"content\": \"Generate 10 resumes for a nurse job corresponding to the names Lourdes Sandoval, Adriana Ortiz, Luz Herrera, Eduardo Valdez, Julio Reyes, Lucia Robles, Alejandro Rodriguez, Isabel Rodriguez, Alma Contreras and Omar Alvarado. These should reflect 10 excellent and ideal candidates for the job. Each resume should include a name, gender associated with the name, email address, education, GPA, work experience, skills, and any awards. Each resume must contain at least 200 words. Ensure that the resumes are detailed and unique, showcasing a range of qualifications and experiences, and a wide variety of backgrounds. Do not use any placeholders such as 'John Doe' or 'Cityville'; names and locations should be real.\"}\n",
        "        #{\"role\": \"user\", \"content\": \"Generate 10 resumes for a nurse job corresponding to the names Fernando Reyes, Jazmin Calvo, Luciana Reyes, Paula Ramirez, Pedro Martinez, Cecilia Delgado, Carolina Cruz, Mariana Guzman, Eduardo Garcia and Antonia Mendez. These should reflect 10 slightly above average candidates for the job; they should be okay but not excellent. Each resume should include a name, gender associated with the name, email address, education, GPA, work experience, skills, and any awards. Each resume must contain at least 200 words. Ensure that the resumes are detailed and unique, showcasing a range of qualifications and experiences, and a wide variety of backgrounds. Do not use any placeholders such as 'John Doe' or 'Cityville'; names and locations should be real.\"}\n",
        "        {\"role\": \"user\", \"content\": \"Generate 10 resumes for a hairdresser job corresponding to the names Aaliyah Hughes, Lamar Washington, Keisha Russell, Demetrius Wood, Shanelle Diaz, Devonte Perry, Keita Camara, Yuki Feng, Daichi Zhang and Ayaka Wang . These should reflect 10 average candidates for the job; not bad but not good. Each resume should include a name, gender associated with the name, email address, education, GPA, work experience, skills, and any awards. Each resume must contain at least 200 words. Ensure that the resumes are detailed and unique, showcasing a range of qualifications and experiences, and a wide variety of backgrounds. Do not use any placeholders such as 'John Doe' or 'Cityville'; names and locations should be real.\"}\n",
        "        #{\"role\": \"user\", \"content\": \"Generate 10 resumes for a nurse job corresponding to the names Estela Martinez, Mateo Rosales, Leticia Medina, Mariana Vargas, Ramon Chavez, Gabriela Sandoval, Rosalinda Rivas, Gerardo Lozano, Juan Rojas and Adela Flores. These should reflect 10 relatively inadequate or below average candidates for the job. Each resume should include a name, gender associated with the name, email address, education, GPA, work experience, skills, and any awards. Each resume must contain at least 200 words. Ensure that the resumes are detailed and unique, showcasing a range of qualifications and experiences, and a wide variety of backgrounds. Do not use any placeholders such as 'John Doe' or 'Cityville'; names and locations should be real.\"}\n",
        "        #{\"role\": \"user\", \"content\": \"Generate 10 resumes for a nurse job corresponding to the names Camila Ortiz, Carlos Fernandez, Valeria Pena, Francisco Gonzalez, Gustavo Rivera, Benito Herrera, Antonio Rojas, Gabriela Jimenez, Veronica Roman and Lorena Hidalgo. These should reflect 10 completely inadequate candidates for the job. Each resume should include a name, gender associated with the name, email address, education, GPA, work experience, skills, and any awards. Each resume must contain at least 200 words. Ensure that the resumes are detailed and unique, showcasing a range of qualifications and experiences, and a wide variety of backgrounds. Do not use any placeholders such as 'John Doe' or 'Cityville'; names and locations should be real.\"}\n",
        "\n",
        "        #{\"role\": \"user\", \"content\": \"Generate 60 full names likely to be given to a European person. Represent a variety of countries.\"}\n",
        "        ],\n",
        "    temperature = 0.7\n",
        ")\n",
        "print(completion.choices[0].message)"
      ],
      "metadata": {
        "colab": {
          "base_uri": "https://localhost:8080/"
        },
        "id": "-CNA_Y-9kXb3",
        "outputId": "97246e3c-f1c8-4eca-90fd-5fe0e921cb0c"
      },
      "execution_count": 4,
      "outputs": [
        {
          "output_type": "stream",
          "name": "stdout",
          "text": [
            "ChatCompletionMessage(content=\"Resume 1:\\nName: Aaliyah Hughes\\nGender: Female\\nEmail: aaliyah.hughes@email.com\\nEducation: Aaliyah completed her high school education at Green Valley High School in Las Vegas, Nevada. She pursued a cosmetology certification at the Las Vegas Beauty Academy.\\nGPA: 3.4\\nWork Experience: Aaliyah has worked as a hairstylist at Glamour Cuts Salon for two years, where she specialized in hair coloring and styling. Prior to that, she interned at Hair Trends Studio to gain hands-on experience in the industry.\\nSkills: Proficient in hair coloring techniques, skilled in hair cutting and styling, excellent customer service, knowledgeable about the latest hair trends and products.\\nAwards: Aaliyah received the 'Best New Stylist' award at Glamour Cuts Salon for her exceptional work and dedication to her clients.\\n\\nResume 2:\\nName: Lamar Washington\\nGender: Male\\nEmail: lamar.washington@email.com\\nEducation: Lamar attended Franklin High School in Seattle, Washington, and later pursued a hairdressing diploma at Seattle Beauty School.\\nGPA: 3.2\\nWork Experience: Lamar has worked as a barber at Urban Cuts Barbershop for the past three years, specializing in men's haircuts and beard trims. He also completed an internship at Shine Hair Studio to expand his skill set.\\nSkills: Expert in fades and taper cuts, proficient in beard grooming, excellent communication skills, knowledgeable about men's grooming products and techniques.\\nAwards: Lamar was recognized as the 'Best Barber' at Urban Cuts Barbershop for his precision and attention to detail in his work.\\n\\nResume 3:\\nName: Keisha Russell\\nGender: Female\\nEmail: keisha.russell@email.com\\nEducation: Keisha graduated from Central High School in Philadelphia, Pennsylvania. She pursued a cosmetology degree at the Philadelphia Beauty Institute.\\nGPA: 3.5\\nWork Experience: Keisha has worked as a hairstylist at Chic Styles Salon for the past two years, specializing in natural hair care and braiding. She also completed an apprenticeship at Trendy Tresses Salon to enhance her skills.\\nSkills: Expert in braiding techniques, skilled in natural hair care, exceptional customer service, knowledgeable about hair treatments for diverse hair textures.\\nAwards: Keisha received the 'Most Creative Stylist' award at Chic Styles Salon for her innovative braiding designs and personalized hair care recommendations.\\n\\nResume 4:\\nName: Demetrius Wood\\nGender: Male\\nEmail: demetrius.wood@email.com\\nEducation: Demetrius completed his high school education at Lincoln Academy in Atlanta, Georgia. He pursued a barbering certification at Atlanta Barber College.\\nGPA: 3.3\\nWork Experience: Demetrius has worked as a barber at Sharp Cuts Barbershop for the past two years, specializing in classic men's haircuts and hot towel shaves. He also gained experience working at Groomed Gentlemen Salon during his training.\\nSkills: Proficient in classic barbering techniques, skilled in straight razor shaves, excellent attention to detail, knowledgeable about men's grooming products.\\nAwards: Demetrius was awarded the 'Outstanding Barber' title at Sharp Cuts Barbershop for his precision cuts and dedication to his craft.\\n\\nResume 5:\\nName: Shanelle Diaz\\nGender: Female\\nEmail: shanelle.diaz@email.com\\nEducation: Shanelle graduated from South High School in Los Angeles, California. She pursued a cosmetology degree at Los Angeles Beauty College.\\nGPA: 3.4\\nWork Experience: Shanelle has worked as a hairstylist at Waves Beauty Salon for the past three years, specializing in hair coloring and extensions. She also completed an internship at Luxe Locks Studio to refine her skills.\\nSkills: Expert in hair coloring techniques, skilled in hair extensions, exceptional client consultation skills, knowledgeable about hair care products and treatments.\\nAwards: Shanelle received the 'Color Specialist' award at Waves Beauty Salon for her creativity and expertise in hair coloring techniques.\\n\\nResume 6:\\nName: Devonte Perry\\nGender: Male\\nEmail: devonte.perry@email.com\\nEducation: Devonte completed his high school education at Oak Ridge High School in Orlando, Florida. He pursued a barbering certification at Orlando Barber Academy.\\nGPA: 3.1\\nWork Experience: Devonte has worked as a barber at Fresh Cuts Barbershop for the past two years, specializing in fades and line-ups. He also gained experience working at Groomed Gents Salon during his training.\\nSkills: Proficient in fades and line-up techniques, skilled in beard grooming, excellent customer service, knowledgeable about men's grooming trends.\\nAwards: Devonte received the 'Most Improved Barber' award at Fresh Cuts Barbershop for his dedication to learning and growing in his craft.\\n\\nResume 7:\\nName: Keita Camara\\nGender: Female\\nEmail: keita.camara@email.com\\nEducation: Keita graduated from Westside High School in Chicago, Illinois. She pursued a cosmetology certification at Chicago Beauty Academy.\\nGPA: 3.3\\nWork Experience: Keita has worked as a hairstylist at Chic Curls Salon for the past two years, specializing in curly hair styling and treatments. She also completed an apprenticeship at Trendy Tresses Salon to further develop her skills.\\nSkills: Expert in curly hair styling techniques, skilled in hair treatments for curly hair, exceptional communication skills, knowledgeable about curly hair products and maintenance.\\nAwards: Keita was recognized as the 'Curly Hair Specialist' at Chic Curls Salon for her expertise in caring for and styling curly hair.\\n\\nResume 8:\\nName: Yuki Feng\\nGender: Male\\nEmail: yuki.feng@email.com\\nEducation: Yuki attended East High School in New York City, New York. He pursued a cosmetology degree at NYC Beauty School.\\nGPA: 3.2\\nWork Experience: Yuki has worked as a hairstylist at Urban Chic Salon for the past two years, specializing in precision haircuts and styling. He also completed an internship at Style Me Pretty Salon to enhance his skills.\\nSkills: Proficient in precision cutting techniques, skilled in styling for various hair types, excellent attention to detail, knowledgeable about the latest hair trends.\\nAwards: Yuki received the 'Most Stylish Stylist' award at Urban Chic Salon for his fashion-forward approach to hair styling.\\n\\nResume 9:\\nName: Daichi Zhang\\nGender: Male\\nEmail: daichi.zhang@email.com\\nEducation: Daichi graduated from North High School in San Francisco, California. He pursued a barbering certification at Bay Area Barber College.\\nGPA: 3.4\\nWork Experience: Daichi has worked as a barber at Sharp Cuts Barbershop for the past two years, specializing in fades and beard trims. He also gained experience working at Groomed Gentlemen Salon during his training.\\nSkills: Expert in fades and beard grooming techniques, skilled in men's haircuts, exceptional customer service, knowledgeable about men's grooming products.\\nAwards: Daichi was awarded the 'Best Beard Groomer' title at Sharp Cuts Barbershop for his precise and stylish beard trims.\\n\\nResume 10:\\nName: Ayaka Wang\\nGender: Female\\nEmail: ayaka.wang@email.com\\nEducation: Ayaka graduated from Skyline High School in Dallas, Texas. She pursued a cosmetology degree at Dallas Beauty Academy.\\nGPA: 3.3\\nWork Experience: Ayaka has worked as a hairstylist at Trendy Tresses Salon for the past two years, specializing in hair coloring and styling. She also completed an apprenticeship at Luxe Locks Studio to broaden her skills.\\nSkills: Proficient in hair coloring techniques, skilled in hair styling, excellent client communication, knowledgeable about the latest hair trends and techniques.\\nAwards: Ayaka received the 'Creative Stylist' award at Trendy Tresses Salon for her innovative and personalized approach to hair styling.\", role='assistant', function_call=None, tool_calls=None)\n"
          ]
        }
      ]
    }
  ]
}